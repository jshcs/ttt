{
 "cells": [
  {
   "cell_type": "markdown",
   "metadata": {},
   "source": [
    "## Tic Tac Toe"
   ]
  },
  {
   "cell_type": "markdown",
   "metadata": {},
   "source": [
    "This is a player v computer game of Tic Tac Toe implemented using Python"
   ]
  },
  {
   "cell_type": "code",
   "execution_count": 2,
   "metadata": {
    "collapsed": true
   },
   "outputs": [],
   "source": [
    "import numpy as np"
   ]
  },
  {
   "cell_type": "code",
   "execution_count": 91,
   "metadata": {
    "collapsed": false
   },
   "outputs": [
    {
     "name": "stdout",
     "output_type": "stream",
     "text": [
      "[[-1. -1. -1.]\n",
      " [-1. -1. -1.]\n",
      " [-1. -1. -1.]]\n"
     ]
    }
   ],
   "source": [
    "ttt=np.ones((3,3))\n",
    "ttt=(-1)*ttt\n",
    "print ttt"
   ]
  },
  {
   "cell_type": "code",
   "execution_count": 103,
   "metadata": {
    "collapsed": false
   },
   "outputs": [
    {
     "ename": "ValueError",
     "evalue": "The truth value of an array with more than one element is ambiguous. Use a.any() or a.all()",
     "output_type": "error",
     "traceback": [
      "\u001b[0;31m---------------------------------------------------------------------------\u001b[0m",
      "\u001b[0;31mValueError\u001b[0m                                Traceback (most recent call last)",
      "\u001b[0;32m<ipython-input-103-890b6a7378ef>\u001b[0m in \u001b[0;36m<module>\u001b[0;34m()\u001b[0m\n\u001b[1;32m      1\u001b[0m \u001b[0mttt\u001b[0m\u001b[0;34m[\u001b[0m\u001b[0;36m0\u001b[0m\u001b[0;34m,\u001b[0m\u001b[0;34m:\u001b[0m\u001b[0;34m]\u001b[0m\u001b[0;34m=\u001b[0m\u001b[0;36m2\u001b[0m\u001b[0;34m\u001b[0m\u001b[0m\n\u001b[1;32m      2\u001b[0m \u001b[0mttt\u001b[0m\u001b[0;34m==\u001b[0m\u001b[0;34m-\u001b[0m\u001b[0;36m1\u001b[0m\u001b[0;34m\u001b[0m\u001b[0m\n\u001b[0;32m----> 3\u001b[0;31m \u001b[0;32mprint\u001b[0m \u001b[0mttt\u001b[0m\u001b[0;34m.\u001b[0m\u001b[0mtolist\u001b[0m\u001b[0;34m(\u001b[0m\u001b[0;34m)\u001b[0m\u001b[0;34m.\u001b[0m\u001b[0mindex\u001b[0m\u001b[0;34m(\u001b[0m\u001b[0mttt\u001b[0m\u001b[0;34m==\u001b[0m\u001b[0;34m-\u001b[0m\u001b[0;36m1\u001b[0m\u001b[0;34m)\u001b[0m\u001b[0;34m\u001b[0m\u001b[0m\n\u001b[0m",
      "\u001b[0;31mValueError\u001b[0m: The truth value of an array with more than one element is ambiguous. Use a.any() or a.all()"
     ]
    }
   ],
   "source": [
    "ttt[0,:]=2\n",
    "ttt==-1\n"
   ]
  },
  {
   "cell_type": "code",
   "execution_count": 65,
   "metadata": {
    "collapsed": false
   },
   "outputs": [
    {
     "name": "stdout",
     "output_type": "stream",
     "text": [
      "[[ 1.  0.  1.]\n",
      " [-1.  1.  1.]\n",
      " [ 1.  0.  0.]]\n",
      "(3, 3)\n",
      "[[ 1.  0.  1.]\n",
      " [ 1.  1.  1.]\n",
      " [ 1.  0.  0.]]\n"
     ]
    }
   ],
   "source": [
    "print ttt\n",
    "print ttt.shape\n",
    "ttt[1,2]=1\n",
    "ttt[0,]=[1,0,1]\n",
    "ttt[2,2]=0\n",
    "ttt[1,1]=1\n",
    "ttt[2,0]=1\n",
    "ttt[1,0]=1\n",
    "print ttt"
   ]
  },
  {
   "cell_type": "code",
   "execution_count": 86,
   "metadata": {
    "collapsed": false
   },
   "outputs": [
    {
     "name": "stdout",
     "output_type": "stream",
     "text": [
      "Diagonal\n"
     ]
    },
    {
     "data": {
      "text/plain": [
       "True"
      ]
     },
     "execution_count": 86,
     "metadata": {},
     "output_type": "execute_result"
    }
   ],
   "source": [
    "def win(ttt,num):\n",
    "    zero_map=np.array([num,num,num])\n",
    "    \n",
    "    # diagonal\n",
    "    if np.array_equal(np.diag(ttt),zero_map) or np.array_equal(np.diag(np.fliplr(ttt)),zero_map):\n",
    "        print \"Diagonal\"\n",
    "        return True\n",
    "    \n",
    "    for i in range(ttt.shape[0]):\n",
    "        # row\n",
    "        if np.array_equal(ttt[i,:],zero_map):\n",
    "            print \"Row\"\n",
    "            return True\n",
    "        # col\n",
    "        if np.array_equal(ttt[:,i],zero_map):\n",
    "            print \"Col\"\n",
    "            return True\n",
    "        \n",
    "    return False\n",
    "\n",
    "win(ttt,2)"
   ]
  },
  {
   "cell_type": "code",
   "execution_count": 59,
   "metadata": {
    "collapsed": false
   },
   "outputs": [
    {
     "name": "stdout",
     "output_type": "stream",
     "text": [
      "Row:4\n"
     ]
    }
   ],
   "source": [
    "#print \"Row:\"\n",
    "row=raw_input(\"Row:\")"
   ]
  },
  {
   "cell_type": "code",
   "execution_count": 60,
   "metadata": {
    "collapsed": false
   },
   "outputs": [
    {
     "name": "stdout",
     "output_type": "stream",
     "text": [
      "Col:5\n"
     ]
    }
   ],
   "source": [
    "col=raw_input(\"Col:\")"
   ]
  },
  {
   "cell_type": "code",
   "execution_count": 62,
   "metadata": {
    "collapsed": false
   },
   "outputs": [
    {
     "name": "stdout",
     "output_type": "stream",
     "text": [
      "4 5\n"
     ]
    }
   ],
   "source": [
    "print int(row),int(col)"
   ]
  },
  {
   "cell_type": "code",
   "execution_count": 66,
   "metadata": {
    "collapsed": false
   },
   "outputs": [],
   "source": [
    "if -1 in ttt:\n",
    "    print \"yes\""
   ]
  },
  {
   "cell_type": "code",
   "execution_count": 79,
   "metadata": {
    "collapsed": false
   },
   "outputs": [
    {
     "name": "stdout",
     "output_type": "stream",
     "text": [
      "[[-1. -1. -1.]\n",
      " [-1. -1. -1.]\n",
      " [-1. -1. -1.]]\n",
      "[['' '' 'x']\n",
      " ['' '' 'o']\n",
      " ['' '' '']]\n"
     ]
    }
   ],
   "source": [
    "print ttt\n",
    "ttt[0,2]=2\n",
    "ttt[1,2]=1\n",
    "def prettyprint(ttt):\n",
    "    res=np.chararray(ttt.shape)\n",
    "    for i in range(ttt.shape[0]):\n",
    "        for j in range(ttt.shape[1]):\n",
    "            if ttt[i,j]==1:\n",
    "                res[i,j]=\"o\"\n",
    "            elif ttt[i,j]==2:\n",
    "                res[i,j]=\"x\"\n",
    "            elif ttt[i,j]==-1:\n",
    "                res[i,j]=\" \"\n",
    "    print res\n",
    "prettyprint(ttt)"
   ]
  },
  {
   "cell_type": "code",
   "execution_count": 90,
   "metadata": {
    "collapsed": false
   },
   "outputs": [
    {
     "name": "stdout",
     "output_type": "stream",
     "text": [
      "[[-1. -1. -1.]\n",
      " [-1. -1. -1.]\n",
      " [-1. -1. -1.]]\n",
      "[['' '' '']\n",
      " ['' '' '']\n",
      " ['' '' '']]\n",
      "Row:0\n",
      "Col:0\n",
      "[['x' '' '']\n",
      " ['o' '' '']\n",
      " ['' '' '']]\n",
      "Row:0\n",
      "Col:2\n",
      "[['x' '' 'x']\n",
      " ['o' '' '']\n",
      " ['o' '' '']]\n",
      "Row:1\n",
      "Col:1\n",
      "[['x' '' 'x']\n",
      " ['o' 'x' '']\n",
      " ['o' '' 'o']]\n",
      "Row:1\n",
      "Col:2\n",
      "[['x' '' 'x']\n",
      " ['o' 'x' 'x']\n",
      " ['o' 'o' 'o']]\n",
      "Row\n",
      "Zero wins\n",
      "[['x' '' 'x']\n",
      " ['o' 'x' 'x']\n",
      " ['o' 'o' 'o']]\n"
     ]
    }
   ],
   "source": [
    "ttt=np.ones((3,3))\n",
    "ttt=(-1)*ttt\n",
    "print ttt\n",
    "prettyprint(ttt)\n",
    "while True:\n",
    "\n",
    "    if win(ttt,1):\n",
    "        print \"Zero wins\"\n",
    "        break\n",
    "    if win(ttt,2):\n",
    "        print \"Cross wins\"\n",
    "        break\n",
    "    if -1 not in ttt:\n",
    "        print \"Draw\"\n",
    "        break\n",
    "    while True:\n",
    "        row,col=int(raw_input(\"Row:\")),int(raw_input(\"Col:\"))\n",
    "        if ttt[row,col]==-1:\n",
    "            break\n",
    "        else:\n",
    "            print \"Give another values\"\n",
    "    ttt[row,col]=2\n",
    "    while True:\n",
    "        row_zero,col_zero=np.random.randint(0,3),np.random.randint(0,3)\n",
    "        if ttt[row_zero,col_zero]==-1:\n",
    "            break\n",
    "    ttt[row_zero,col_zero]=1\n",
    "    prettyprint(ttt)\n",
    "    \n",
    "prettyprint(ttt)"
   ]
  },
  {
   "cell_type": "code",
   "execution_count": 85,
   "metadata": {
    "collapsed": false
   },
   "outputs": [
    {
     "name": "stdout",
     "output_type": "stream",
     "text": [
      "[[ 2.  1.  2.]\n",
      " [ 1.  2.  2.]\n",
      " [ 1.  1.  2.]]\n"
     ]
    }
   ],
   "source": [
    "print ttt\n"
   ]
  },
  {
   "cell_type": "code",
   "execution_count": null,
   "metadata": {
    "collapsed": true
   },
   "outputs": [],
   "source": []
  }
 ],
 "metadata": {
  "anaconda-cloud": {},
  "kernelspec": {
   "display_name": "Python [default]",
   "language": "python",
   "name": "python2"
  },
  "language_info": {
   "codemirror_mode": {
    "name": "ipython",
    "version": 2
   },
   "file_extension": ".py",
   "mimetype": "text/x-python",
   "name": "python",
   "nbconvert_exporter": "python",
   "pygments_lexer": "ipython2",
   "version": "2.7.12"
  }
 },
 "nbformat": 4,
 "nbformat_minor": 1
}
