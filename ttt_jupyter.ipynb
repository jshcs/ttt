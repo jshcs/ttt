{
 "cells": [
  {
   "cell_type": "markdown",
   "metadata": {},
   "source": [
    "## Tic Tac Toe"
   ]
  },
  {
   "cell_type": "markdown",
   "metadata": {},
   "source": [
    "This is a player v computer game of Tic Tac Toe implemented using Python"
   ]
  },
  {
   "cell_type": "code",
   "execution_count": 66,
   "metadata": {
    "collapsed": true
   },
   "outputs": [],
   "source": [
    "import numpy as np\n",
    "import copy"
   ]
  },
  {
   "cell_type": "code",
   "execution_count": 67,
   "metadata": {
    "collapsed": false
   },
   "outputs": [],
   "source": [
    "def win(ttt,num):\n",
    "    zero_map=np.array([num,num,num])\n",
    "    \n",
    "    # diagonal\n",
    "    if np.array_equal(np.diag(ttt),zero_map) or np.array_equal(np.diag(np.fliplr(ttt)),zero_map):\n",
    "        #print \"Diagonal\"\n",
    "        return True\n",
    "    \n",
    "    for i in range(ttt.shape[0]):\n",
    "        # row\n",
    "        if np.array_equal(ttt[i,:],zero_map):\n",
    "            #print \"Row\"\n",
    "            return True\n",
    "        # col\n",
    "        if np.array_equal(ttt[:,i],zero_map):\n",
    "            #print \"Col\"\n",
    "            return True\n",
    "        \n",
    "    return False\n",
    "\n",
    "#win(ttt,2)"
   ]
  },
  {
   "cell_type": "code",
   "execution_count": 68,
   "metadata": {
    "collapsed": false
   },
   "outputs": [],
   "source": [
    "# print ttt\n",
    "# ttt[0,2]=2\n",
    "# ttt[1,2]=1\n",
    "def prettyprint(ttt):\n",
    "    res=np.chararray(ttt.shape)\n",
    "    for i in range(ttt.shape[0]):\n",
    "        for j in range(ttt.shape[1]):\n",
    "            if ttt[i,j]==1:\n",
    "                res[i,j]=\"O\"\n",
    "            elif ttt[i,j]==2:\n",
    "                res[i,j]=\"X\"\n",
    "            elif ttt[i,j]==-1:\n",
    "                res[i,j]=\"-\"\n",
    "    print res\n",
    "# prettyprint(ttt)"
   ]
  },
  {
   "cell_type": "code",
   "execution_count": 69,
   "metadata": {
    "collapsed": true
   },
   "outputs": [],
   "source": [
    "def other(num):\n",
    "    if num==1:\n",
    "        return 2\n",
    "    elif num==2:\n",
    "        return 1"
   ]
  },
  {
   "cell_type": "code",
   "execution_count": 70,
   "metadata": {
    "collapsed": true
   },
   "outputs": [],
   "source": [
    "class MMTree():\n",
    "    def __init__(self,ttt,node,left,r,c):\n",
    "        self.ttt=ttt\n",
    "        self.children=[]\n",
    "        self.utility=None\n",
    "        self.node=node\n",
    "        self.left=left\n",
    "        self.child_utility=[]\n",
    "        self.idx=None\n",
    "        self.max_idx=None\n",
    "        self.r=r\n",
    "        self.c=c\n",
    "        self.optimal_r=None\n",
    "        self.optimal_c=None\n",
    "    def prettyprint(self):\n",
    "        prettyprint(self.ttt)\n",
    "    def show_children(self):\n",
    "        for child in self.children:\n",
    "            prettyprint(child.ttt)\n",
    "            child.show_children()\n",
    "    def show_utility(self):\n",
    "#         print self.child_utility,len(self.children)\n",
    "        print len(self.child_utility)==len(self.children)\n",
    "        for child in self.children:\n",
    "            child.show_utility()\n",
    "    def minimax_utility(self):\n",
    "        if len(self.children)==0 or self.utility==0 or self.utility==1 or self.utility==-1:\n",
    "            self.max_idx=self.utility\n",
    "            return self.utility\n",
    "        if self.node==True:\n",
    "            self.max_idx=max([child.minimax_utility() for child in self.children])\n",
    "            return self.max_idx\n",
    "        else:\n",
    "            self.max_idx=min([child.minimax_utility() for child in self.children])\n",
    "            return self.max_idx\n",
    "    def get_move(self):\n",
    "        for child in self.children:\n",
    "            if self.max_idx==child.max_idx:\n",
    "                return child.r,child.c\n"
   ]
  },
  {
   "cell_type": "code",
   "execution_count": 71,
   "metadata": {
    "collapsed": true
   },
   "outputs": [],
   "source": [
    "def get_utility(ttt,state):\n",
    "    w1=win(ttt,1)\n",
    "    w2=win(ttt,2)\n",
    "    if w1:\n",
    "        return 1\n",
    "    elif w2:\n",
    "        return -1\n",
    "    elif not w1 and not w2:\n",
    "        if -1 not in ttt:\n",
    "            return 0\n",
    "        else:\n",
    "            if state==True:\n",
    "                return 100\n",
    "            else:\n",
    "                return -100\n",
    "        "
   ]
  },
  {
   "cell_type": "code",
   "execution_count": 72,
   "metadata": {
    "collapsed": true
   },
   "outputs": [],
   "source": [
    "def get_game_tree(root):\n",
    "    for (r,c) in root.left:\n",
    "        tmp_state=copy.deepcopy(root.ttt)\n",
    "        if root.node==True:\n",
    "            curr_node=False\n",
    "            tmp_state[r,c]=1\n",
    "            tmp_left=copy.deepcopy(root.left)\n",
    "            tmp_left.remove((r,c))\n",
    "            new_node=MMTree(tmp_state,curr_node,tmp_left,r,c)\n",
    "            new_node.utility=get_utility(new_node.ttt,curr_node)\n",
    "#             print new_node.utility\n",
    "            new_node.idx=root.left.index((r,c))\n",
    "            root.children.append(new_node)\n",
    "            root.child_utility.append(new_node.utility)\n",
    "            get_game_tree(new_node)\n",
    "        else:\n",
    "            curr_node=True\n",
    "            tmp_state[r,c]=2\n",
    "            tmp_left=copy.deepcopy(root.left)\n",
    "            tmp_left.remove((r,c))\n",
    "            new_node=MMTree(tmp_state,curr_node,tmp_left,r,c)\n",
    "            new_node.utility=get_utility(new_node.ttt,curr_node)\n",
    "#             print new_node.utility\n",
    "            new_node.idx=root.left.index((r,c))\n",
    "            root.children.append(new_node)\n",
    "            root.child_utility.append(new_node.utility)\n",
    "            get_game_tree(new_node)\n",
    "        "
   ]
  },
  {
   "cell_type": "code",
   "execution_count": 73,
   "metadata": {
    "collapsed": false
   },
   "outputs": [
    {
     "name": "stdout",
     "output_type": "stream",
     "text": [
      "[['-' '-' '-']\n",
      " ['-' '-' '-']\n",
      " ['-' '-' '-']]\n"
     ]
    }
   ],
   "source": [
    "ttt=np.ones((3,3))\n",
    "ttt=(-1)*ttt\n",
    "#print ttt\n",
    "prettyprint(ttt)\n",
    "left=[(i,j) for i in range(3) for j in range(3)]"
   ]
  },
  {
   "cell_type": "code",
   "execution_count": 74,
   "metadata": {
    "collapsed": false,
    "scrolled": true
   },
   "outputs": [
    {
     "name": "stdout",
     "output_type": "stream",
     "text": [
      "Row:0\n",
      "Col:0\n",
      "[['X' '-' '-']\n",
      " ['-' '-' '-']\n",
      " ['-' '-' '-']]\n",
      "---------- THINKING ----------\n",
      "[['X' '-' '-']\n",
      " ['-' 'O' '-']\n",
      " ['-' '-' '-']]\n",
      "Row:0\n",
      "Col:2\n",
      "[['X' '-' 'X']\n",
      " ['-' 'O' '-']\n",
      " ['-' '-' '-']]\n",
      "---------- THINKING ----------\n",
      "[['X' 'O' 'X']\n",
      " ['-' 'O' '-']\n",
      " ['-' '-' '-']]\n",
      "Row:1\n",
      "Col:0\n",
      "[['X' 'O' 'X']\n",
      " ['X' 'O' '-']\n",
      " ['-' '-' '-']]\n",
      "---------- THINKING ----------\n",
      "Zero wins\n",
      "[['X' 'O' 'X']\n",
      " ['X' 'O' '-']\n",
      " ['-' 'O' '-']]\n"
     ]
    }
   ],
   "source": [
    "while True:\n",
    "    if win(ttt,1):\n",
    "        print \"Zero wins\"\n",
    "        break\n",
    "    if -1 not in ttt:\n",
    "        print \"Draw\"\n",
    "        break\n",
    "    while True:\n",
    "        row,col=int(raw_input(\"Row:\")),int(raw_input(\"Col:\"))\n",
    "        if ttt[row,col]==-1:\n",
    "            break\n",
    "        else:\n",
    "            print \"Give another values\"\n",
    "    ttt[row,col]=2\n",
    "    left.remove((row,col))\n",
    "    if win(ttt,2):\n",
    "        print \"Cross wins\"\n",
    "        break\n",
    "    if -1 not in ttt:\n",
    "        print \"Draw\"\n",
    "        break\n",
    "    prettyprint(ttt)\n",
    "    print \"-\"*10,\"THINKING\",\"-\"*10\n",
    "    zero_root=MMTree(ttt,True,left,row,col)\n",
    "    zero_root.utility=get_utility(zero_root.ttt,True)\n",
    "    get_game_tree(zero_root)\n",
    "    zero_root.minimax_utility()\n",
    "    zero_row,zero_col=zero_root.get_move()\n",
    "    ttt[zero_row,zero_col]=1\n",
    "    left.remove((zero_row,zero_col))\n",
    "    if win(ttt,1):\n",
    "        print \"Zero wins\"\n",
    "        break\n",
    "    if -1 not in ttt:\n",
    "        print \"Draw\"\n",
    "        break\n",
    "    prettyprint(ttt)\n",
    "    \n",
    "prettyprint(ttt)"
   ]
  },
  {
   "cell_type": "code",
   "execution_count": null,
   "metadata": {
    "collapsed": true
   },
   "outputs": [],
   "source": []
  }
 ],
 "metadata": {
  "anaconda-cloud": {},
  "kernelspec": {
   "display_name": "Python [default]",
   "language": "python",
   "name": "python2"
  },
  "language_info": {
   "codemirror_mode": {
    "name": "ipython",
    "version": 2
   },
   "file_extension": ".py",
   "mimetype": "text/x-python",
   "name": "python",
   "nbconvert_exporter": "python",
   "pygments_lexer": "ipython2",
   "version": "2.7.12"
  }
 },
 "nbformat": 4,
 "nbformat_minor": 1
}
